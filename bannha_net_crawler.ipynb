{
 "cells": [
  {
   "cell_type": "code",
   "execution_count": 5,
   "metadata": {},
   "outputs": [],
   "source": [
    "import requests\n",
    "from bs4 import BeautifulSoup"
   ]
  },
  {
   "cell_type": "code",
   "execution_count": 6,
   "metadata": {},
   "outputs": [],
   "source": [
    "url = \"https://bannha.net/mua-ban-nha-dat-ha-noi/\"\n",
    "response = requests.get(url)"
   ]
  },
  {
   "cell_type": "code",
   "execution_count": null,
   "metadata": {},
   "outputs": [],
   "source": [
    "if response.status_code == 200:\n",
    "    soup = BeautifulSoup(response.content, 'html.parser')\n",
    "    table = soup.find('div', class_='elementor-loop-container elementor-grid')\n",
    "    rows = table.find_all('div', class_='elementor-element elementor-element-8bfae38 e-con-full e-flex e-con e-child')\n",
    "    for row_id, row in enumerate(rows):\n",
    "        columns = row.find_all('div')\n",
    "        if columns:\n",
    "            title = columns[1].text.strip()\n",
    "            info = columns[2].text.strip().split('\\n')\n",
    "            # Clean up each piece of information\n",
    "            gia = info[0].strip().replace('\\t', '').replace('·', '')\n",
    "            dien_tich = info[1].strip().replace('\\t', '').replace('·', '')\n",
    "            ngay_dang = info[3].strip().replace('\\t', '').replace('·', '')\n",
    "            dia_chi = columns[6].text.strip().replace('\\t','')\n",
    "            print(f\"Ten: {title}\\\n",
    "                    \\nGia: {gia}\\\n",
    "                    \\nDien tich: {dien_tich}\\\n",
    "                    \\nNgay dang: {ngay_dang}\\\n",
    "                    \\nDia chi: {dia_chi}\\n\")"
   ]
  },
  {
   "cell_type": "code",
   "execution_count": 21,
   "metadata": {},
   "outputs": [],
   "source": [
    "import requests\n",
    "from bs4 import BeautifulSoup\n",
    "import concurrent.futures\n",
    "\n",
    "def crawl_page(url):\n",
    "    response = requests.get(url)\n",
    "    if response.status_code == 200:\n",
    "        soup = BeautifulSoup(response.content, 'html.parser')\n",
    "        table = soup.find('div', class_='elementor-loop-container elementor-grid')\n",
    "        rows = table.find_all('div', class_='elementor-element elementor-element-8bfae38 e-con-full e-flex e-con e-child')\n",
    "        data = []\n",
    "        for _, row in enumerate(rows):\n",
    "            columns = row.find_all('div')\n",
    "            if columns:\n",
    "                title = columns[1].text.strip()\n",
    "                info = columns[2].text.strip().split('\\n')\n",
    "                gia = info[0].strip().replace('\\t', '').replace('·', '')\n",
    "                dien_tich = info[1].strip().replace('\\t', '').replace('·', '')\n",
    "                ngay_dang = info[3].strip().replace('\\t', '').replace('·', '')\n",
    "                dia_chi = columns[6].text.strip().replace('\\t','')\n",
    "                data.append(f\"Ten: {title}\\nGia: {gia}\\nDien tich: {dien_tich}\\nNgay dang: {ngay_dang}\\nDia chi: {dia_chi}\\n\\n\")\n",
    "        return data\n",
    "\n",
    "url = \"https://bannha.net/mua-ban-nha-dat-ha-noi/\"\n",
    "base_url = \"https://bannha.net/mua-ban-nha-dat-ha-noi/page/\"\n",
    "urls = [url] + [f\"{base_url}{i}\" for i in range(2, 6)]\n",
    "\n",
    "with concurrent.futures.ThreadPoolExecutor() as executor:\n",
    "    results = executor.map(crawl_page, urls)\n",
    "\n",
    "with open('data.txt', 'a', encoding='utf-8') as f:\n",
    "    for result in results:\n",
    "        if result:\n",
    "            f.writelines(result)\n"
   ]
  },
  {
   "cell_type": "code",
   "execution_count": null,
   "metadata": {},
   "outputs": [],
   "source": []
  }
 ],
 "metadata": {
  "kernelspec": {
   "display_name": "venv",
   "language": "python",
   "name": "python3"
  },
  "language_info": {
   "codemirror_mode": {
    "name": "ipython",
    "version": 3
   },
   "file_extension": ".py",
   "mimetype": "text/x-python",
   "name": "python",
   "nbconvert_exporter": "python",
   "pygments_lexer": "ipython3",
   "version": "3.10.12"
  }
 },
 "nbformat": 4,
 "nbformat_minor": 2
}
